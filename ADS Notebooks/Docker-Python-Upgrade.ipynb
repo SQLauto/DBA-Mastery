{
    "metadata": {
        "kernelspec": {
            "name": "python3",
            "display_name": "Python 3"
        },
        "language_info": {
            "name": "python",
            "version": "3.7.6",
            "mimetype": "text/x-python",
            "codemirror_mode": {
                "name": "ipython",
                "version": 3
            },
            "pygments_lexer": "ipython3",
            "nbconvert_exporter": "python",
            "file_extension": ".py"
        }
    },
    "nbformat_minor": 2,
    "nbformat": 4,
    "cells": [
        {
            "cell_type": "markdown",
            "source": [
                "# [DBA Mastery](http://dbamastery.com)\n",
                "> **Just another witchcraft and wizardry site and DBA tips …**\n",
                "\n",
                "# Upgrading a SQL Server docker container using Python in ADS Notebooks\n",
                "\n",
                "This Azure Data Studio Notebook uses the Docker Python API to manage SQL Server container created in Docker. In this example I upgrade a SQL Server instance (container) from SQL Server 2017 CU16 to CU17.\n",
                "\n",
                "For more information about the Docker SDK for Python, take a look at my SQL Server Central articles:\n",
                "* [Managing SQL Server containers using Docker SDK for Python - Part 1](https://www.sqlservercentral.com/articles/managing-sql-server-containers-using-docker-sdk-for-python-part-1)\n",
                "* [Managing SQL Server containers using Docker SDK for Python - Part 2](https://www.sqlservercentral.com/articles/managing-sql-server-containers-using-docker-sdk-for-python-part-2)\n",
                "\n",
                "These are the steps to be perform on this ADS Notebook:\n",
                "\n",
                "1. Checking SQL Server images in MCR **(optional)**  \n",
                "    * **Ubuntu based images**  \n",
                "    * **RHEL based images** \n",
                "2. Pull images **(optional)**\n",
                "3. Check images **(optional)**\n",
                "4. Create CU16 container (with volume)\n",
                "5. Check container status\n",
                "6. Connect to CU16 and get version\n",
                "7. Restore WWI database from backup\n",
                "8. Stop and upgrade CU16 to CU17\n",
                "9. Check SQL Server errorlog\n",
                "10. Connect to CU17 and get version"
            ],
            "metadata": {
                "azdata_cell_guid": "e1fb2cc3-b4ca-40d1-9aa6-676f92e88c09"
            }
        },
        {
            "cell_type": "markdown",
            "source": [
                "# 1. Checking SQL Server images in MCR - Ubuntu based (Python)\n",
                "\n",
                ""
            ],
            "metadata": {
                "azdata_cell_guid": "bad1d445-1d63-45eb-b0fd-7195f55024cf"
            }
        },
        {
            "cell_type": "code",
            "source": [
                "\n",
                "# Importing HTTP requests library\n",
                "import requests\n",
                "\n",
                "# Listing available images at MCR for Ubuntu\n",
                "ubuntu_mcr_images = requests.get('https://mcr.microsoft.com/v2/mssql/server/tags/list/')\n",
                "\n",
                "# Displaying HTTP GET results\n",
                "print ('Ubuntu based images:')\n",
                "ubuntu_mcr_images.json()"
            ],
            "metadata": {
                "azdata_cell_guid": "4d8b3e1f-dc88-40f8-952c-f78125831c35"
            },
            "outputs": [],
            "execution_count": null
        },
        {
            "cell_type": "markdown",
            "source": [
                "# 1. Checking SQL Server images in MCR - RHEL based (Python)"
            ],
            "metadata": {
                "azdata_cell_guid": "10bab990-1aee-473c-b2aa-eb05deee8f1b"
            }
        },
        {
            "cell_type": "code",
            "source": [
                "\n",
                "# Importing HTTP requests library\n",
                "import requests\n",
                "\n",
                "# Listing available images at MCR for RHEL\n",
                "rhel_mcr_images = requests.get('https://mcr.microsoft.com/v2/mssql/rhel/server/tags/list/')\n",
                "\n",
                "# Displaying HTTP GET results\n",
                "print ('RHEL based images:')\n",
                "rhel_mcr_images.json()"
            ],
            "metadata": {
                "azdata_cell_guid": "d7177b10-7a7e-4ec9-b7fc-b16afdde0da1"
            },
            "outputs": [],
            "execution_count": null
        },
        {
            "cell_type": "markdown",
            "source": [
                "# 2. Pull images (Python)"
            ],
            "metadata": {
                "azdata_cell_guid": "bda97271-5ec9-4c08-b86b-8f495d9d3ddf"
            }
        },
        {
            "cell_type": "code",
            "source": [
                "# Importing docker library\n",
                "import docker\n",
                "client = docker.from_env()\n",
                "\n",
                "client.images.pull('mcr.microsoft.com/mssql/server:2017-CU16-ubuntu')\n",
                "print ('The SQL Server 2017 - Ubuntu CU16 image has been pulled')\n",
                "client.images.pull('mcr.microsoft.com/mssql/server:2017-CU17-ubuntu')\n",
                "print ('The SQL Server 2017 - Ubuntu CU17 image has been pulled')"
            ],
            "metadata": {
                "azdata_cell_guid": "2df8339c-c6f5-4386-983e-8fbf39fc246a"
            },
            "outputs": [],
            "execution_count": null
        },
        {
            "cell_type": "markdown",
            "source": [
                "# 3. Check images (Python)"
            ],
            "metadata": {
                "azdata_cell_guid": "2b4c582c-4990-4db9-b0b0-078a594af562"
            }
        },
        {
            "cell_type": "code",
            "source": [
                "\n",
                "# Listing local images (Docker cache)\n",
                "client.images.list()\n",
                ""
            ],
            "metadata": {
                "azdata_cell_guid": "e12a2365-9ad1-444c-93d6-e02d36dac152"
            },
            "outputs": [],
            "execution_count": null
        },
        {
            "cell_type": "markdown",
            "source": [
                "# 4. Create CU16 container (Python)"
            ],
            "metadata": {
                "azdata_cell_guid": "2fa965c9-a9d9-4c55-9d86-4d4c14f5a6df"
            }
        },
        {
            "cell_type": "code",
            "source": [
                "# Checking if existing \\ Cleaning up\n",
                "try:\n",
                "        container = client.containers.get('PythonSQL_CU16')\n",
                "        container.stop()\n",
                "        container.remove()\n",
                "        print ('The existing PythonSQL_CU16 container was removed ...')\n",
                "except:\n",
                "        print (\"The PythonSQL_CU16 container does not exists ...\")\n",
                "\n",
                "# Creating Python_CU16 container\n",
                "client.containers.run(\n",
                "        'mcr.microsoft.com/mssql/server:2017-CU16-ubuntu',\n",
                "        detach=True,\n",
                "        name=\"PythonSQL_CU16\",\n",
                "        hostname=\"PythonSQL_CU16\",\n",
                "        environment={\"ACCEPT_EULA\":\"Y\",\"MSSQL_SA_PASSWORD\":\"P1th0nR0ck5\"},\n",
                "        volumes= \n",
                "        {'vlm_VersionUpgrade': {'bind': '/var/opt/mssql', 'mode': 'rw'},\n",
                "        '/Users/carlos/Documents/DBA Mastery/Shared': {'bind': '/Shared', 'mode': 'rw'}},\n",
                "        ports={'1433/tcp': 1401}\n",
                ")\n",
                "print (\"The PythonSQL_CU16 container was succesfully created\")"
            ],
            "metadata": {
                "azdata_cell_guid": "a51390ec-e93c-4998-8782-1322406faa0a"
            },
            "outputs": [],
            "execution_count": null
        },
        {
            "cell_type": "markdown",
            "source": [
                "# 5. Check container status (Python)"
            ],
            "metadata": {
                "azdata_cell_guid": "80958dfd-aa34-4a75-a55d-e2dabcd9850c"
            }
        },
        {
            "cell_type": "code",
            "source": [
                "# Importing docker library\n",
                "import docker\n",
                "\n",
                "# Setting context to my container\n",
                "container = client.containers.get('PythonSQL_CU16')\n",
                "\n",
                "# Checking status of PythonSQL container\n",
                "print ('My container: ' + container.name + ' is in ' + container.status + ' state.')\n",
                "\n",
                "# Checking status of all containers\n",
                "client.containers.list(all=True, filters={\"status\":\"running\"})"
            ],
            "metadata": {
                "azdata_cell_guid": "28251732-f396-474f-a38f-9a96538bbe2c"
            },
            "outputs": [],
            "execution_count": null
        },
        {
            "cell_type": "markdown",
            "source": [
                "# 6. Connect to CU16 and get version (SQL)"
            ],
            "metadata": {
                "azdata_cell_guid": "72795a6e-0a83-41f7-8648-4ef1366e9941"
            }
        },
        {
            "cell_type": "code",
            "source": [
                "-- Checking SQL Server instance information\n",
                "-- 14.0.3223.3 = CU16\n",
                "-- 14.0.3238.1 = CU17\n",
                "SELECT\n",
                "    SERVERPROPERTY('MachineName') AS [Computer Name],\n",
                "    SERVERPROPERTY('ServerName') AS [Instance Name],\n",
                "    SERVERPROPERTY('ProductVersion') AS [Product Version],\n",
                "    SERVERPROPERTY('ProductUpdateLevel') AS [CU],\n",
                "    RIGHT(@@version, LEN(@@version)- 3 -charindex (' ON ', @@VERSION)) [OS Version],\n",
                "    SERVERPROPERTY ('Edition') AS [Edition];"
            ],
            "metadata": {
                "azdata_cell_guid": "6585a8b4-f971-4934-8b50-c3d4c2ebf569"
            },
            "outputs": [],
            "execution_count": null
        },
        {
            "cell_type": "markdown",
            "source": [
                "# 7. Restore WWI database from backup (SQL)"
            ],
            "metadata": {
                "azdata_cell_guid": "62944dd1-83cb-4c64-a0e4-0b2bdd1e4983"
            }
        },
        {
            "cell_type": "code",
            "source": [
                "-- Checking existing databases\n",
                "SELECT name FROM sys.databases;\n",
                "\n",
                "-- Restore WWI backup\n",
                "RESTORE DATABASE WWI FROM DISK = '/Shared/wwi.bak' WITH\n",
                "MOVE 'WWI_Primary' TO '/var/opt/mssql/data/WideWorldImporters.mdf',\n",
                "MOVE 'WWI_UserData' TO '/var/opt/mssql/data/WideWorldImporters_userdata.ndf',\n",
                "MOVE 'WWI_Log' TO '/var/opt/mssql/data/WideWorldImporters.ldf', \n",
                "MOVE 'WWI_InMemory_Data_1' TO '/var/opt/mssql/data/WideWorldImporters_InMemory_Data_1';\n",
                "\n",
                "-- Looking for WWI database\n",
                "SELECT name FROM sys.databases;"
            ],
            "metadata": {
                "azdata_cell_guid": "86bc4e7c-f5b6-4de0-b446-c23a998b0dcd"
            },
            "outputs": [],
            "execution_count": null
        },
        {
            "cell_type": "markdown",
            "source": [
                "# 8. Stop and upgrade CU16 to CU17 (Python)"
            ],
            "metadata": {
                "azdata_cell_guid": "5c1a8cdc-5fa6-4a30-abbd-816acbc84793"
            }
        },
        {
            "cell_type": "code",
            "source": [
                "# Importing docker library\n",
                "import docker\n",
                "client = docker.from_env()\n",
                "\n",
                "# Setting context to my container\n",
                "container = client.containers.get('PythonSQL_CU16')\n",
                "\n",
                "# Stopping PythonSQL\n",
                "container.stop()\n",
                "\n",
                "# Creating Python_CU17 container (upgrade)\n",
                "client.containers.run(\n",
                "        'mcr.microsoft.com/mssql/server:2017-CU17-ubuntu',\n",
                "        detach=True,\n",
                "        name=\"PythonSQL_CU17\",\n",
                "        hostname=\"PythonSQL_CU17\",\n",
                "        environment={\"ACCEPT_EULA\":\"Y\",\"MSSQL_SA_PASSWORD\":\"P1th0nR0ck$!\"},\n",
                "        volumes= \n",
                "        {'vlm_VersionUpgrade': {'bind': '/var/opt/mssql', 'mode': 'rw'},\n",
                "        '/Users/carlos/Documents/DBA Mastery/Shared': {'bind': '/Shared', 'mode': 'rw'}},\n",
                "        ports={'1433/tcp': 1401}\n",
                ")\n",
                "print (\"The PythonSQL_CU17 container was succesfully created\")"
            ],
            "metadata": {
                "azdata_cell_guid": "a4951683-839c-40fe-9b9e-1a777e1c0672"
            },
            "outputs": [],
            "execution_count": null
        },
        {
            "cell_type": "markdown",
            "source": [
                "# 9. Check SQL Server errorlog (Python)"
            ],
            "metadata": {
                "azdata_cell_guid": "dd960171-ee01-4522-860a-937f52d98c05"
            }
        },
        {
            "cell_type": "code",
            "source": [
                "# Setting context to my container\n",
                "container = client.containers.get('PythonSQL_CU17')\n",
                "\n",
                "# Checking the log\n",
                "for line in container.logs(stream=True):\n",
                "    print (line.strip())\n",
                ""
            ],
            "metadata": {
                "azdata_cell_guid": "f4471cbb-9eeb-4f0c-90cc-c4153614e7f5"
            },
            "outputs": [],
            "execution_count": null
        },
        {
            "cell_type": "markdown",
            "source": [
                "# 10. Connect to CU17 and get version (SQL)"
            ],
            "metadata": {
                "azdata_cell_guid": "9d0cba93-5b17-4460-bd90-78f9a5db6349"
            }
        },
        {
            "cell_type": "code",
            "source": [
                "-- Checking SQL Server instance information\n",
                "-- 14.0.3048.4 = CU16\n",
                "-- 14.0.3076.1 = CU17\n",
                "SELECT\n",
                "    SERVERPROPERTY('MachineName') AS [Computer Name],\n",
                "    SERVERPROPERTY('ServerNameA') AS [Instance Name],\n",
                "    SERVERPROPERTY('ProductVersion') AS [Product Version],\n",
                "    SERVERPROPERTY('ProductUpdateLevel') AS [CU],\n",
                "    RIGHT(@@version, LEN(@@version)- 3 -charindex (' ON ', @@VERSION)) [OS Version],\n",
                "    SERVERPROPERTY ('Edition') AS [Edition];\n",
                "\n",
                "-- Looking for WWI database\n",
                "SELECT name FROM sys.databases;"
            ],
            "metadata": {
                "azdata_cell_guid": "362fc330-e9a3-498b-9837-5cb6a486a2cd"
            },
            "outputs": [],
            "execution_count": null
        },
        {
            "cell_type": "markdown",
            "source": [
                "# Questions or comments?\n",
                "\n",
                ">If you want to know more details about this ADS Notebook, feel free to reach me out at:\n",
                "\n",
                "- Twitter:&nbsp;&nbsp;&nbsp;&nbsp;[@dbamastery](https://twitter.com/dbamastery)  \n",
                "- GitHub:&nbsp;&nbsp;&nbsp;&nbsp;[dbamaster](https://github.com/dbamaster)  \n",
                "- Email:&nbsp;&nbsp;&nbsp;&nbsp;&nbsp;&nbsp;&nbsp;<crobles@dbamastery.com> \n",
                "- Blog:&nbsp;&nbsp;&nbsp;&nbsp;&nbsp;&nbsp;&nbsp;&nbsp;&nbsp;http://dbamastery.com\n",
                ""
            ],
            "metadata": {
                "azdata_cell_guid": "aff1484d-6a5a-4534-a262-23779353e0ad"
            }
        }
    ]
}