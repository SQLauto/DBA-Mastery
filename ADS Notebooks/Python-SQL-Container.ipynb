{
    "metadata": {
        "kernelspec": {
            "name": "python3",
            "display_name": "Python 3"
        },
        "language_info": {
            "name": "python",
            "version": "3.7.6",
            "mimetype": "text/x-python",
            "codemirror_mode": {
                "name": "ipython",
                "version": 3
            },
            "pygments_lexer": "ipython3",
            "nbconvert_exporter": "python",
            "file_extension": ".py"
        }
    },
    "nbformat_minor": 2,
    "nbformat": 4,
    "cells": [
        {
            "cell_type": "markdown",
            "source": [
                "# [DBA Mastery](http://google.com)\n",
                "> **Just another witchcraft and wizardry site and DBA tips …**\n",
                "\n",
                "# Creating SQL containers on Azure Data Studio Notebooks with Python\n",
                "1. Checking SQL Server images on MCR (Python Kernel)\n",
                "    - Ubuntu-based images\n",
                "    - RHEL-based images\n",
                "2. Creating a SQL Container (Python Kernel)\n",
                "3. Connect to SQL Server\n",
                "4. Running a T-SQL code block\n",
                "5. Cleaning up\n",
                "\n",
                "**Note:**     \n",
                "For more information about the Docker SDK for Python, take a look at my SQL Server Central articles:\n",
                "* [Managing SQL Server containers using Docker SDK for Python - Part 1](https://www.sqlservercentral.com/articles/managing-sql-server-containers-using-docker-sdk-for-python-part-1)\n",
                "* [Managing SQL Server containers using Docker SDK for Python - Part 2](https://www.sqlservercentral.com/articles/managing-sql-server-containers-using-docker-sdk-for-python-part-2)"
            ],
            "metadata": {
                "azdata_cell_guid": "637f22b8-e43f-4aa5-9b16-339d338eba82"
            }
        },
        {
            "cell_type": "markdown",
            "source": [
                "## 1. Checking SQL Server images on MCR\n",
                ">**Ubuntu-based images**"
            ],
            "metadata": {
                "azdata_cell_guid": "2232a02c-9be9-4ff2-aa7c-932d847eba53"
            }
        },
        {
            "cell_type": "code",
            "source": [
                "\n",
                "# Importing HTTP requests library\n",
                "import requests\n",
                "\n",
                "# Getting list of Ubuntu-based SQL Server images\n",
                "ubuntu_mcr_images = requests.get('https://mcr.microsoft.com/v2/mssql/server/tags/list/')\n",
                "\n",
                "# Displaying HTTP GET results\n",
                "print ('Ubuntu based images:')\n",
                "ubuntu_mcr_images.json()"
            ],
            "metadata": {
                "azdata_cell_guid": "75d46f8b-4bc2-496c-a500-8ad64e94b62b"
            },
            "outputs": [],
            "execution_count": null
        },
        {
            "cell_type": "markdown",
            "source": [
                ">**RHEL-based images**"
            ],
            "metadata": {
                "azdata_cell_guid": "9ec270c0-0181-4a22-b6a0-48644e35f5de"
            }
        },
        {
            "cell_type": "code",
            "source": [
                "\n",
                "# Importing HTTP requests library\n",
                "import requests\n",
                "\n",
                "# Getting list of RHEL-based SQL Server images\n",
                "rhel_mcr_images = requests.get('https://mcr.microsoft.com/v2/mssql/rhel/server/tags/list/')\n",
                "\n",
                "# Displaying HTTP GET results\n",
                "print ('RHEL based images:')\n",
                "rhel_mcr_images.json()"
            ],
            "metadata": {
                "azdata_cell_guid": "8f85cedf-68c5-42e6-babf-5b463a00b591"
            },
            "outputs": [],
            "execution_count": null
        },
        {
            "cell_type": "markdown",
            "source": [
                "## 2. Creating a SQL Container"
            ],
            "metadata": {
                "azdata_cell_guid": "12c1bcb4-e1da-41f0-b71d-9abdec965532"
            }
        },
        {
            "cell_type": "code",
            "source": [
                "# Importing docker library\n",
                "import docker\n",
                "client = docker.from_env()\n",
                "\n",
                "# Creating Python_SQL container\n",
                "client.containers.run(\n",
                "        'mcr.microsoft.com/mssql/server:2019-CU2-ubuntu-16.04',\n",
                "        environment={\"ACCEPT_EULA\":\"Y\",\"SA_PASSWORD\":\"P1th0nR0ck5\"},\n",
                "        name=\"Python_SQL\",\n",
                "        hostname=\"Python_SQL\",\n",
                "        ports={'1433/tcp': 1433},\n",
                "        detach=True\n",
                ")"
            ],
            "metadata": {
                "azdata_cell_guid": "7ffe51fa-9946-49d6-9e2a-60bff3b4bba2"
            },
            "outputs": [],
            "execution_count": null
        },
        {
            "cell_type": "markdown",
            "source": [
                "## 3. Connect to SQL Server\n",
                "\n",
                "Change the Notebook Kernet to SQL, a panel called \"Connection details\" will show up in the right-hand side of ADS. Just provide with the hostname and port, followed by user name and password (for SA user), then simply click on connect."
            ],
            "metadata": {
                "azdata_cell_guid": "1c8c240f-57cd-409f-92b1-6a38a33ed74b"
            }
        },
        {
            "cell_type": "markdown",
            "source": [
                "## 4. Running a T-SQL code block"
            ],
            "metadata": {
                "azdata_cell_guid": "5d0b319a-669b-4f6e-b1ba-79258aa22f53"
            }
        },
        {
            "cell_type": "code",
            "source": [
                "-- ** Make sure to change the Kerner to SQL **\n",
                "-- Checking SQL Server version\n",
                "-- 15.0.4013.40 = SQL Server 2019 CU2\n",
                "SELECT\n",
                "    SERVERPROPERTY('ServerName') AS [Instance Name],\n",
                "    SERVERPROPERTY('ProductVersion') AS [Product Version],\n",
                "    RIGHT(@@version, LEN(@@version)- 3 -charindex (' ON ', @@VERSION)) [OS Version],\n",
                "    SERVERPROPERTY ('Edition') AS [Edition]\n",
                "FROM sys.dm_os_sys_info;"
            ],
            "metadata": {
                "azdata_cell_guid": "2258ab29-bcf2-4b55-a4d8-60f68a4b0b8f"
            },
            "outputs": [],
            "execution_count": null
        },
        {
            "cell_type": "markdown",
            "source": [
                "## 5. Cleaning up"
            ],
            "metadata": {
                "azdata_cell_guid": "2681d7e9-b747-458d-8ebb-83cccdcf0b0c"
            }
        },
        {
            "cell_type": "code",
            "source": [
                "# Importing docker library\n",
                "import docker\n",
                "client = docker.from_env()\n",
                "\n",
                "# Setting context to my container\n",
                "container = client.containers.get('Python_SQL')\n",
                "\n",
                "# Stopping and removing the container\n",
                "container.stop()\n",
                "container.remove()"
            ],
            "metadata": {
                "azdata_cell_guid": "813cd32a-a461-459f-a5e7-1304fd9db72f"
            },
            "outputs": [],
            "execution_count": null
        },
        {
            "cell_type": "markdown",
            "source": [
                "# Questions or comments?\n",
                "\n",
                ">If you want to know more details about this ADS Notebook, feel free to reach me out at:\n",
                "\n",
                "- Twitter:&nbsp;&nbsp;&nbsp;&nbsp;[@dbamastery](https://twitter.com/dbamastery)  \n",
                "- GitHub:&nbsp;&nbsp;&nbsp;&nbsp;[dbamaster](https://github.com/dbamaster)  \n",
                "- Email:&nbsp;&nbsp;&nbsp;&nbsp;&nbsp;&nbsp;&nbsp;<crobles@dbamastery.com> \n",
                "- Blog:&nbsp;&nbsp;&nbsp;&nbsp;&nbsp;&nbsp;&nbsp;&nbsp;&nbsp;http://dbamastery.com"
            ],
            "metadata": {
                "azdata_cell_guid": "5bd0d3cd-9dec-4013-8882-973e77197e9d"
            }
        }
    ]
}